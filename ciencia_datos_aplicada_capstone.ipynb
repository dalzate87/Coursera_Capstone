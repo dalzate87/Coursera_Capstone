{
  "nbformat": 4,
  "nbformat_minor": 0,
  "metadata": {
    "colab": {
      "name": "ciencia_datos_aplicada_capstone.ipynb",
      "provenance": [],
      "collapsed_sections": []
    },
    "kernelspec": {
      "name": "python3",
      "display_name": "Python 3"
    },
    "language_info": {
      "name": "python"
    }
  },
  "cells": [
    {
      "cell_type": "markdown",
      "source": [
        "# Proyecto Final Capstone"
      ],
      "metadata": {
        "id": "j2-cTpdJ_kMO"
      }
    },
    {
      "cell_type": "code",
      "execution_count": 1,
      "metadata": {
        "colab": {
          "base_uri": "https://localhost:8080/"
        },
        "id": "vhsU01lH_f2w",
        "outputId": "f5526ba9-5c08-42b5-ee7a-f294554de6fa"
      },
      "outputs": [
        {
          "output_type": "stream",
          "name": "stdout",
          "text": [
            "¡Hola, proyecto final del curso!\n"
          ]
        }
      ],
      "source": [
        "# Este cuaderno será usado para el desarrollo del proyecto final del curso de Ciencia de Datos Aplicada en Capstone de IBM\n",
        "import pandas as pd\n",
        "import numpy as np\n",
        "print(\"¡Hola, proyecto final del curso!\")"
      ]
    }
  ]
}